{
 "cells": [
  {
   "cell_type": "markdown",
   "metadata": {},
   "source": [
    "```\n",
    "A python package to parse and process the MUSDB18 dataset, the largest open access dataset for music source separation. The tool was originally developed for the Music Separation task as part of the Signal Separation Evaluation Campaign (SISEC).\n",
    "```\n",
    "### 1. Download & Parse musdb dataset "
   ]
  },
  {
   "cell_type": "code",
   "execution_count": 1,
   "metadata": {},
   "outputs": [],
   "source": [
    "#!sudo apt-get install ffmpeg\n",
    "#!pip install musdb\n",
    "\n",
    "import musdb\n",
    "musdb_data_path = 'data/musdb18'\n",
    "mus_total = musdb.DB(root=musdb_data_path)"
   ]
  },
  {
   "cell_type": "markdown",
   "metadata": {},
   "source": [
    "## 2. Load Dataset"
   ]
  },
  {
   "cell_type": "code",
   "execution_count": 2,
   "metadata": {},
   "outputs": [],
   "source": [
    "mus_train = musdb.DB(root=musdb_data_path, subsets=\"train\", split='train')\n",
    "mus_valid = musdb.DB(root=musdb_data_path, subsets=\"train\", split='valid')\n",
    "mus_test = musdb.DB(root=musdb_data_path, subsets=\"test\")"
   ]
  },
  {
   "cell_type": "code",
   "execution_count": 3,
   "metadata": {},
   "outputs": [],
   "source": [
    "import librosa"
   ]
  },
  {
   "cell_type": "markdown",
   "metadata": {},
   "source": [
    "## 3.  Preprocess training data"
   ]
  },
  {
   "cell_type": "code",
   "execution_count": 4,
   "metadata": {},
   "outputs": [],
   "source": [
    "dim_f = 2**10\n",
    "dim_t = 2**8\n",
    "n_fft=2*(dim_f-1)\n",
    "hop_factor = 6\n",
    "hop_length=n_fft//hop_factor\n",
    "sampling_rate = 44100\n",
    "sampling_size = hop_length * (dim_t+hop_factor-1)\n",
    "\n",
    "\n",
    "def save_as_numpy (_audio, _norm, _dest_dir, _target_name, _audio_idx, _track_name) : \n",
    "\n",
    "    audio_mono = _audio.mean(axis=1)\n",
    "    # ipd._audio(track._audio.T[:,:track.rate*5], rate=track.rate)\n",
    "    # ipd._audio(_audio.T[:5*track.rate], rate=track.rate)\n",
    "\n",
    "    spectrogram = librosa.stft(audio_mono, n_fft=n_fft, center=False, hop_length=hop_length)\n",
    "    r = spectrogram.real\n",
    "    i = spectrogram.imag\n",
    "    \n",
    "    np.save(os.path.join(_dest_dir, _target_name, num2str(_audio_idx) + '_' + _track_name + '_real'), r)\n",
    "    np.save(os.path.join(_dest_dir, _target_name, num2str(_audio_idx) + '_' + _track_name + '_imag'), i)"
   ]
  },
  {
   "cell_type": "code",
   "execution_count": 5,
   "metadata": {},
   "outputs": [
    {
     "name": "stdout",
     "output_type": "stream",
     "text": [
      "Preprocess data:  <musdb.DB object at 0x7fe0e7fa1ef0>\n"
     ]
    },
    {
     "data": {
      "application/vnd.jupyter.widget-view+json": {
       "model_id": "207f1c6042e14253b534af1ef9157449",
       "version_major": 2,
       "version_minor": 0
      },
      "text/plain": [
       "HBox(children=(IntProgress(value=0, max=86), HTML(value='')))"
      ]
     },
     "metadata": {},
     "output_type": "display_data"
    },
    {
     "name": "stdout",
     "output_type": "stream",
     "text": [
      "\n",
      "Preprocess data:  <musdb.DB object at 0x7fe0e7fa1f28>\n"
     ]
    },
    {
     "data": {
      "application/vnd.jupyter.widget-view+json": {
       "model_id": "8f59c1691ffd4af082dc90228020bd98",
       "version_major": 2,
       "version_minor": 0
      },
      "text/plain": [
       "HBox(children=(IntProgress(value=0, max=14), HTML(value='')))"
      ]
     },
     "metadata": {},
     "output_type": "display_data"
    },
    {
     "name": "stdout",
     "output_type": "stream",
     "text": [
      "\n",
      "Preprocess data:  <musdb.DB object at 0x7fe0e7fa1f98>\n"
     ]
    },
    {
     "data": {
      "application/vnd.jupyter.widget-view+json": {
       "model_id": "5b15e0f19f254f61a3e830866d332d43",
       "version_major": 2,
       "version_minor": 0
      },
      "text/plain": [
       "HBox(children=(IntProgress(value=0, max=50), HTML(value='')))"
      ]
     },
     "metadata": {},
     "output_type": "display_data"
    },
    {
     "name": "stdout",
     "output_type": "stream",
     "text": [
      "\n"
     ]
    }
   ],
   "source": [
    "# parameters: _win_size, _hop_size\n",
    "from tqdm import tqdm_notebook\n",
    "import librosa\n",
    "import numpy as np\n",
    "import os\n",
    "from util import num2str\n",
    "\n",
    "def preprocess_dataset(_dataset, _dest_dir):\n",
    "\n",
    "    # create the folder\n",
    "    if not os.path.exists(_dest_dir):\n",
    "        os.mkdir(_dest_dir)\n",
    "        os.mkdir(os.path.join(_dest_dir, 'mixture'))\n",
    "        os.mkdir(os.path.join(_dest_dir, 'vocals'))\n",
    "        os.mkdir(os.path.join(_dest_dir, 'drums'))\n",
    "        os.mkdir(os.path.join(_dest_dir, 'bass'))\n",
    "        os.mkdir(os.path.join(_dest_dir, 'other'))\n",
    "        os.mkdir(os.path.join(_dest_dir, 'metadata'))\n",
    "\n",
    "    targets = ['vocals', 'drums', 'bass', 'other']\n",
    "\n",
    "    print('Preprocess data: ' , str(_dataset))\n",
    "    \n",
    "    for audio_idx, track in enumerate(tqdm_notebook(_dataset)):\n",
    "\n",
    "        target = 'mixture'\n",
    "        norm = None\n",
    "\n",
    "        # After For Iteration\n",
    "        norm = save_as_numpy(track.audio, None, _dest_dir, target, audio_idx, track.name)\n",
    "\n",
    "        # save metadata\n",
    "        np.save(os.path.join(_dest_dir, \"metadata\", num2str(audio_idx) + '_' + track.name + '_spec'), np.array([norm, track.rate]))\n",
    "\n",
    "        for target in targets:\n",
    "            save_as_numpy(track.targets[target].audio, norm, _dest_dir, target, audio_idx, track.name)\n",
    "\n",
    "\n",
    "\n",
    "preprocess_dataset(mus_train, 'data/musdb18/preprocessed/fullspec/train')\n",
    "preprocess_dataset(mus_valid, 'data/musdb18/preprocessed/fullspec/valid')\n",
    "preprocess_dataset(mus_test, 'data/musdb18/preprocessed/fullspec/test')"
   ]
  }
 ],
 "metadata": {
  "kernelspec": {
   "display_name": "Python 3",
   "language": "python",
   "name": "python3"
  },
  "language_info": {
   "codemirror_mode": {
    "name": "ipython",
    "version": 3
   },
   "file_extension": ".py",
   "mimetype": "text/x-python",
   "name": "python",
   "nbconvert_exporter": "python",
   "pygments_lexer": "ipython3",
   "version": "3.7.2"
  }
 },
 "nbformat": 4,
 "nbformat_minor": 2
}
