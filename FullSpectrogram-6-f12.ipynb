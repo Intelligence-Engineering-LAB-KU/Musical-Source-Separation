{
 "cells": [
  {
   "cell_type": "markdown",
   "metadata": {},
   "source": [
    "## Dataset"
   ]
  },
  {
   "cell_type": "code",
   "execution_count": 1,
   "metadata": {},
   "outputs": [
    {
     "name": "stdout",
     "output_type": "stream",
     "text": [
      "135135\n"
     ]
    },
    {
     "data": {
      "text/plain": [
       "torch.Size([4, 4096, 32])"
      ]
     },
     "execution_count": 1,
     "metadata": {},
     "output_type": "execute_result"
    }
   ],
   "source": [
    "import os\n",
    "import numpy as np\n",
    "import random\n",
    "from torch.utils.data import DataLoader, Dataset\n",
    "import torch\n",
    "import torch.nn as nn\n",
    "import matplotlib.pyplot as plt\n",
    "import librosa\n",
    "import librosa.display\n",
    "from tqdm import tqdm_notebook\n",
    "import warnings\n",
    "import IPython.display as ipd\n",
    "import museval\n",
    "import mir_eval.separation as eval3\n",
    "\n",
    "warnings.simplefilter(action='ignore', category=Warning)\n",
    "\n",
    "model_path = 'FullSpectrogram_model'\n",
    "model_name = 'model_6_f12'\n",
    "\n",
    "musdb_train_path = 'data/musdb18/preprocessed/train/'\n",
    "musdb_valid_path = 'data/musdb18/preprocessed/valid/'\n",
    "musdb_test_path = 'data/musdb18/preprocessed/test/'\n",
    "\n",
    "dsd_train_path = 'data/DSD100/preprocessed/train/'\n",
    "dsd_test_path = 'data/DSD100/preprocessed/test/'\n",
    "\n",
    "dsd_eval_path = 'EvalData/DSD100'\n",
    "musdb_eval_path = 'EvalData/MUSDB2018'\n",
    "\n",
    "mix_name = 'linear_mixture'\n",
    "target_name = 'voc'\n",
    "\n",
    "dim_c = 4\n",
    "dim_f = 2**12\n",
    "dim_t = 2**5\n",
    "n_fft=2*(dim_f-1)\n",
    "hop_factor = 2\n",
    "hop_length=n_fft//hop_factor\n",
    "sampling_rate = 44100\n",
    "sampling_size = hop_length * (dim_t+hop_factor-1)\n",
    "trim = 15000  # trim each generated sub-signal (noise due to conv zero-padding)\n",
    "\n",
    "device = torch.device(\"cuda\" if torch.cuda.is_available() else \"cpu\")\n",
    "\n",
    "\n",
    "\n",
    "def to_specs(signal):\n",
    "    specs = []\n",
    "    for channel in signal:\n",
    "        spectrogram = librosa.stft(channel, n_fft=n_fft, center=False, hop_length=hop_length)\n",
    "        specs.append(spectrogram.real)\n",
    "        specs.append(spectrogram.imag)\n",
    "    return np.array(specs)\n",
    "\n",
    "def restore(specs):\n",
    "    ri = np.reshape(specs, (-1, 2, dim_f, dim_t))\n",
    "    channels = []\n",
    "    for ri_c in ri:\n",
    "        ft_c = ri_c[0] + 1.j * ri_c[1]\n",
    "        channels.append(librosa.istft(ft_c, center=False, hop_length=hop_length))\n",
    "    return np.array(channels)\n",
    "\n",
    "\n",
    "class BssDataset(Dataset):\n",
    "    def __init__(self, file_path):\n",
    "        self.file_path = file_path\n",
    "        self.mix_path = file_path + mix_name\n",
    "        self.target_path = file_path + target_name\n",
    "\n",
    "    def __len__(self):\n",
    "        return len([name for name in os.listdir(self.mix_path)])\n",
    "\n",
    "    def __getitem__(self, index):\n",
    "        mix_track = np.load('{0}/{1}.npy'.format(self.mix_path, index))\n",
    "        target_track = np.load('{0}/{1}.npy'.format(self.target_path, index))\n",
    "\n",
    "        s = np.random.randint(mix_track.shape[1] - sampling_size)\n",
    "        mix = to_specs(mix_track[:, s:s+sampling_size])\n",
    "        target = to_specs(target_track[:, s:s+sampling_size])\n",
    "\n",
    "        return torch.tensor(mix), torch.tensor(target) \n",
    "\n",
    "\n",
    "\n",
    "print(sampling_size)\n",
    "b = BssDataset(dsd_train_path)\n",
    "b[0][0].shape"
   ]
  },
  {
   "cell_type": "markdown",
   "metadata": {},
   "source": [
    "## Modeling"
   ]
  },
  {
   "cell_type": "code",
   "execution_count": 2,
   "metadata": {},
   "outputs": [],
   "source": [
    "class Self_Att(nn.Module):\n",
    "    def __init__(self, c, f, t, h, d_k, d_v) :\n",
    "        super(Self_Att, self).__init__()\n",
    "        self.c, self.f, self.t = c, f, t\n",
    "        self.h, self.d_k, self.d_v = h, d_k, d_v\n",
    "        self.scale = math.sqrt(d_k)\n",
    "        self.dropout = nn.Dropout(p=0.1)\n",
    "\n",
    "        self.to_query = nn.Linear(t, d_k*h)\n",
    "        self.to_key = nn.Linear(t, d_k*h)\n",
    "        self.to_value = nn.Linear(t, d_v*h)\n",
    "        self.to_output = nn.Linear(d_v*h, t)\n",
    "        self.att = None\n",
    "    \n",
    "    def get_qkv (self, x):\n",
    "        q = self.to_query(x).view(-1, self.c, self.f, self.h, self.d_k).transpose(-2,-3)\n",
    "        k = self.to_key(x).view(-1, self.c, self.f, self.h, self.d_k).transpose(-2,-3)\n",
    "        v = self.to_value(x).view(-1, self.c, self.f, self.h, self.d_v).transpose(-2,-3)\n",
    "        return q, k, v\n",
    "                 \n",
    "    def forward (self, x):\n",
    "        \n",
    "        Q, K, V = self.get_qkv(x)  # [B, C, h, F, d_k], [B, C, h, F, d_k], [B, C, h, F, d_v]\n",
    "        \n",
    "        scores = torch.matmul(Q, K.transpose(-1,-2))/self.scale\n",
    "                         \n",
    "        attention = func.softmax(scores, dim=-1)  # [B, C, h, F, F]\n",
    "        self.att = attention\n",
    "        \n",
    "        attV = torch.matmul(self.dropout(attention), V)  # [B, C, h, F, d_v]\n",
    "        \n",
    "        O = self.to_output(attV.transpose(-2,-3).contiguous().view(-1, self.c, self.f, self.d_v*self.h))\n",
    "        \n",
    "        return O   # [B, C, F, T]\n",
    "    \n",
    "    \n",
    "class Self_Att_Block(nn.Module):\n",
    "    def __init__(self, c, f, t, num_layers, num_heads, d_k, d_v) :\n",
    "        super(Self_Att_Block, self).__init__()\n",
    "        self.L = num_layers\n",
    "        self.pos = nn.Parameter(torch.ones(f, t))\n",
    "        self.att_layers = nn.ModuleList()\n",
    "        for i in range(num_layers):\n",
    "             self.att_layers.append(\n",
    "                nn.Sequential(\n",
    "                    nn.BatchNorm2d(c),\n",
    "                    nn.ReLU(),\n",
    "                    Self_Att(dim_c, dim_f, dim_t, num_heads, d_k, d_v)\n",
    "                )\n",
    "            )\n",
    "            \n",
    "    def forward (self, x):\n",
    "        x = x + self.pos\n",
    "        for i in range(self.L):\n",
    "            x = x + self.att_layers[i](x)\n",
    "       \n",
    "        return x\n",
    "\n",
    "    \n",
    "class LayerNorm(nn.Module):\n",
    "    \"Construct a layernorm module (See citation for details).\"\n",
    "    def __init__(self, size, eps=1e-6):\n",
    "        super(LayerNorm, self).__init__()\n",
    "        self.a_2 = nn.Parameter(torch.ones(size))\n",
    "        self.b_2 = nn.Parameter(torch.zeros(size))\n",
    "        self.eps = eps\n",
    "\n",
    "    def forward(self, x):\n",
    "        mean = x.mean(-1, keepdim=True)\n",
    "        std = x.std(-1, keepdim=True)\n",
    "        return self.a_2 * (x - mean) / (std + self.eps) + self.b_2    "
   ]
  },
  {
   "cell_type": "code",
   "execution_count": 10,
   "metadata": {},
   "outputs": [],
   "source": [
    "class DenseNet(nn.Module):\n",
    "    def __init__(self, in_c, l, k, fx, fy, pos_size=None):\n",
    "        super(DenseNet, self).__init__()\n",
    "        c = in_c\n",
    "        self.H = nn.ModuleList()\n",
    "        \n",
    "        for i in range(l):\n",
    "            self.H.append(\n",
    "                nn.Sequential(\n",
    "                    nn.BatchNorm2d(c),\n",
    "                    nn.ReLU(),\n",
    "                    nn.Conv2d(in_channels=c, out_channels=k, \n",
    "                                            kernel_size=(fx, fy), stride=1, padding=(fx//2, fy//2))\n",
    "                )\n",
    "            )\n",
    "            c += k\n",
    "            \n",
    "        \n",
    "        self.pos_f1 = None if pos_size is None else nn.Parameter(torch.ones(pos_size))\n",
    "        self.pos_f2 = None if pos_size is None else nn.Parameter(torch.zeros(pos_size))\n",
    "        \n",
    "    def forward(self, x):\n",
    "        if self.pos_f1 is not None:\n",
    "            x = self.pos_f1.unsqueeze(1) * x + self.pos_f2.unsqueeze(1)\n",
    "        x_ = self.H[0](x)\n",
    "        for h in self.H[1:]:\n",
    "            x = torch.cat((x_, x), 1)\n",
    "            x_ = h(x)    \n",
    "            \n",
    "        return x_\n",
    "        \n",
    "    \n",
    "class MDenseNet(nn.Module):\n",
    "    def __init__(self, L, l, k, fx, fy, t_scale):\n",
    "        super(MDenseNet, self).__init__()\n",
    "        self.n = L//2\n",
    "        self.mid_dim = (dim_f//2**self.n, dim_t//2**len(t_scale))\n",
    "        \n",
    "        self.ds_dense = nn.ModuleList()\n",
    "        self.ds = nn.ModuleList()\n",
    "        for i in range(self.n):\n",
    "            self.ds_dense.append(DenseNet(dim_c if i==0 else k, l, k, fx, fy, pos_size=dim_f//2**i))\n",
    "            \n",
    "            scale = (2,2) if i in t_scale else (2,1)\n",
    "            self.ds.append(\n",
    "                nn.Sequential(\n",
    "                    nn.BatchNorm2d(k),\n",
    "                    nn.Conv2d(in_channels=k, out_channels=k, kernel_size=1, stride=1),\n",
    "                    nn.AvgPool2d(kernel_size=scale, stride=scale)\n",
    "                )\n",
    "            )\n",
    "        \n",
    "        \n",
    "        self.mid_dense = DenseNet(k, l, k, fx, fy, pos_size=dim_f//2**self.n)\n",
    "        #self.att = Self_Att_Block(k, self.mid_dim[0], self.mid_dim[1], num_layers=2, num_heads=2, d_k=128, d_v=32)\n",
    "        \n",
    "        \n",
    "        self.us_dense = nn.ModuleList()\n",
    "        self.us = nn.ModuleList()\n",
    "        for i in range(self.n):\n",
    "            self.us_dense.append(DenseNet(2*k, l, k, fx, fy, pos_size=dim_f//2**(self.n-1 - i)))\n",
    "            \n",
    "            scale = (2,2) if i in self.n-1 - t_scale else (2,1)\n",
    "            self.us.append(\n",
    "                nn.Sequential(\n",
    "                    nn.BatchNorm2d(k),\n",
    "                    nn.ConvTranspose2d(in_channels=k, out_channels=k, kernel_size=scale, stride=scale),\n",
    "                )\n",
    "            )\n",
    "        \n",
    "        self.pos_f1 = nn.Parameter(torch.ones(dim_f))\n",
    "        self.pos_f2 = nn.Parameter(torch.zeros(dim_f))\n",
    "        \n",
    "        self.final_conv = nn.Sequential(\n",
    "            nn.BatchNorm2d(k),\n",
    "            nn.ReLU(),\n",
    "            nn.Conv2d(in_channels=k, out_channels=dim_c, kernel_size=1, stride=1)\n",
    "        )\n",
    "        \n",
    "        \n",
    "    def forward(self, x):\n",
    "        \n",
    "        ds_outputs = []\n",
    "        for i in range(self.n):\n",
    "            x = self.ds_dense[i](x)\n",
    "            ds_outputs.append(x)\n",
    "            x = self.ds[i](x)\n",
    "        \n",
    "        x = self.mid_dense(x)\n",
    "        #x = self.att(x)\n",
    "        \n",
    "        for i in range(self.n):\n",
    "            x = self.us[i](x)\n",
    "            x = torch.cat((x, ds_outputs[-i-1]), 1)\n",
    "            x = self.us_dense[i](x)\n",
    "        \n",
    "        x = self.pos_f1.unsqueeze(1) * x + self.pos_f2.unsqueeze(1)\n",
    "        return self.final_conv(x)\n",
    "    \n",
    "    \n",
    "class hp:\n",
    "    num_layers = 21\n",
    "    num_d_layers = 1\n",
    "    growth_rate = 28\n",
    "    filter_size_x = 3\n",
    "    filter_size_y = 3\n",
    "    t_scale = np.array([1,4,7])"
   ]
  },
  {
   "cell_type": "markdown",
   "metadata": {},
   "source": [
    "## Training "
   ]
  },
  {
   "cell_type": "code",
   "execution_count": 11,
   "metadata": {},
   "outputs": [],
   "source": [
    "model = MDenseNet(hp.num_layers, hp.num_d_layers, hp.growth_rate, hp.filter_size_x, hp.filter_size_y, hp.t_scale).to(device)\n",
    "\n",
    "train_set = BssDataset(file_path=dsd_train_path)\n",
    "train_iter = DataLoader(train_set, batch_size=4, shuffle=True)\n",
    "valid_set = BssDataset(file_path=musdb_test_path)\n",
    "valid_iter = DataLoader(train_set, batch_size=4, shuffle=True)\n",
    "\n",
    "loss_trace = []\n",
    "loss_trace_v = []\n",
    "\n",
    "def init_weights(model, ckpt, epoch=0):\n",
    "    if ckpt==0:\n",
    "        for p in model.parameters():\n",
    "            if p.dim() > 1:\n",
    "                nn.init.xavier_normal_(p)\n",
    "    else:\n",
    "        if epoch==0:\n",
    "            model.load_state_dict(torch.load('{0}/{1}/{2}.pt'.format(model_path, model_name, target_name)))\n",
    "        else:\n",
    "            model.load_state_dict(torch.load('{0}/{1}/{2}{3:05}.pt'.format(model_path, model_name, target_name, epoch)))"
   ]
  },
  {
   "cell_type": "code",
   "execution_count": 12,
   "metadata": {},
   "outputs": [
    {
     "data": {
      "text/plain": [
       "1218751"
      ]
     },
     "execution_count": 12,
     "metadata": {},
     "output_type": "execute_result"
    }
   ],
   "source": [
    "criterion = nn.MSELoss()\n",
    "optim = torch.optim.RMSprop(model.parameters(), lr=1e-3)\n",
    "\n",
    "#warmup_epochs = 100\n",
    "lr_decay = 0.9997\n",
    "lr_func = lambda e: lr_decay**e \n",
    "scheduler = torch.optim.lr_scheduler.LambdaLR(optim, lr_lambda=lr_func)\n",
    "\n",
    "sum(p.numel() for p in model.parameters() if p.requires_grad)  "
   ]
  },
  {
   "cell_type": "code",
   "execution_count": 6,
   "metadata": {
    "scrolled": true
   },
   "outputs": [
    {
     "data": {
      "application/vnd.jupyter.widget-view+json": {
       "model_id": "d4b8906af5be4dd892c0ac5a1fbea496",
       "version_major": 2,
       "version_minor": 0
      },
      "text/plain": [
       "HBox(children=(IntProgress(value=0, max=7), HTML(value='')))"
      ]
     },
     "metadata": {},
     "output_type": "display_data"
    },
    {
     "ename": "KeyboardInterrupt",
     "evalue": "",
     "output_type": "error",
     "traceback": [
      "\u001b[0;31m---------------------------------------------------------------------------\u001b[0m",
      "\u001b[0;31mKeyboardInterrupt\u001b[0m                         Traceback (most recent call last)",
      "\u001b[0;32m<ipython-input-6-9566c3a8296a>\u001b[0m in \u001b[0;36m<module>\u001b[0;34m\u001b[0m\n\u001b[1;32m      7\u001b[0m     \u001b[0mmodel\u001b[0m\u001b[0;34m.\u001b[0m\u001b[0mtrain\u001b[0m\u001b[0;34m(\u001b[0m\u001b[0;34m)\u001b[0m\u001b[0;34m\u001b[0m\u001b[0;34m\u001b[0m\u001b[0m\n\u001b[1;32m      8\u001b[0m     \u001b[0mloss_sum\u001b[0m \u001b[0;34m=\u001b[0m \u001b[0;36m0\u001b[0m\u001b[0;34m\u001b[0m\u001b[0;34m\u001b[0m\u001b[0m\n\u001b[0;32m----> 9\u001b[0;31m     \u001b[0;32mfor\u001b[0m \u001b[0mmix\u001b[0m\u001b[0;34m,\u001b[0m \u001b[0mtar\u001b[0m \u001b[0;32min\u001b[0m \u001b[0mtqdm_notebook\u001b[0m\u001b[0;34m(\u001b[0m\u001b[0mtrain_iter\u001b[0m\u001b[0;34m)\u001b[0m\u001b[0;34m:\u001b[0m\u001b[0;34m\u001b[0m\u001b[0;34m\u001b[0m\u001b[0m\n\u001b[0m\u001b[1;32m     10\u001b[0m         \u001b[0mmix\u001b[0m \u001b[0;34m=\u001b[0m \u001b[0mmix\u001b[0m\u001b[0;34m.\u001b[0m\u001b[0mto\u001b[0m\u001b[0;34m(\u001b[0m\u001b[0mdevice\u001b[0m\u001b[0;34m)\u001b[0m\u001b[0;34m\u001b[0m\u001b[0;34m\u001b[0m\u001b[0m\n\u001b[1;32m     11\u001b[0m         \u001b[0mtar\u001b[0m \u001b[0;34m=\u001b[0m \u001b[0mtar\u001b[0m\u001b[0;34m.\u001b[0m\u001b[0mto\u001b[0m\u001b[0;34m(\u001b[0m\u001b[0mdevice\u001b[0m\u001b[0;34m)\u001b[0m\u001b[0;34m\u001b[0m\u001b[0;34m\u001b[0m\u001b[0m\n",
      "\u001b[0;32m~/miniconda3/envs/pytorch/lib/python3.7/site-packages/tqdm/_tqdm_notebook.py\u001b[0m in \u001b[0;36m__iter__\u001b[0;34m(self, *args, **kwargs)\u001b[0m\n\u001b[1;32m    221\u001b[0m     \u001b[0;32mdef\u001b[0m \u001b[0m__iter__\u001b[0m\u001b[0;34m(\u001b[0m\u001b[0mself\u001b[0m\u001b[0;34m,\u001b[0m \u001b[0;34m*\u001b[0m\u001b[0margs\u001b[0m\u001b[0;34m,\u001b[0m \u001b[0;34m**\u001b[0m\u001b[0mkwargs\u001b[0m\u001b[0;34m)\u001b[0m\u001b[0;34m:\u001b[0m\u001b[0;34m\u001b[0m\u001b[0;34m\u001b[0m\u001b[0m\n\u001b[1;32m    222\u001b[0m         \u001b[0;32mtry\u001b[0m\u001b[0;34m:\u001b[0m\u001b[0;34m\u001b[0m\u001b[0;34m\u001b[0m\u001b[0m\n\u001b[0;32m--> 223\u001b[0;31m             \u001b[0;32mfor\u001b[0m \u001b[0mobj\u001b[0m \u001b[0;32min\u001b[0m \u001b[0msuper\u001b[0m\u001b[0;34m(\u001b[0m\u001b[0mtqdm_notebook\u001b[0m\u001b[0;34m,\u001b[0m \u001b[0mself\u001b[0m\u001b[0;34m)\u001b[0m\u001b[0;34m.\u001b[0m\u001b[0m__iter__\u001b[0m\u001b[0;34m(\u001b[0m\u001b[0;34m*\u001b[0m\u001b[0margs\u001b[0m\u001b[0;34m,\u001b[0m \u001b[0;34m**\u001b[0m\u001b[0mkwargs\u001b[0m\u001b[0;34m)\u001b[0m\u001b[0;34m:\u001b[0m\u001b[0;34m\u001b[0m\u001b[0;34m\u001b[0m\u001b[0m\n\u001b[0m\u001b[1;32m    224\u001b[0m                 \u001b[0;31m# return super(tqdm...) will not catch exception\u001b[0m\u001b[0;34m\u001b[0m\u001b[0;34m\u001b[0m\u001b[0;34m\u001b[0m\u001b[0m\n\u001b[1;32m    225\u001b[0m                 \u001b[0;32myield\u001b[0m \u001b[0mobj\u001b[0m\u001b[0;34m\u001b[0m\u001b[0;34m\u001b[0m\u001b[0m\n",
      "\u001b[0;32m~/miniconda3/envs/pytorch/lib/python3.7/site-packages/tqdm/_tqdm.py\u001b[0m in \u001b[0;36m__iter__\u001b[0;34m(self)\u001b[0m\n\u001b[1;32m   1015\u001b[0m                 \"\"\"), fp_write=getattr(self.fp, 'write', sys.stderr.write))\n\u001b[1;32m   1016\u001b[0m \u001b[0;34m\u001b[0m\u001b[0m\n\u001b[0;32m-> 1017\u001b[0;31m             \u001b[0;32mfor\u001b[0m \u001b[0mobj\u001b[0m \u001b[0;32min\u001b[0m \u001b[0miterable\u001b[0m\u001b[0;34m:\u001b[0m\u001b[0;34m\u001b[0m\u001b[0;34m\u001b[0m\u001b[0m\n\u001b[0m\u001b[1;32m   1018\u001b[0m                 \u001b[0;32myield\u001b[0m \u001b[0mobj\u001b[0m\u001b[0;34m\u001b[0m\u001b[0;34m\u001b[0m\u001b[0m\n\u001b[1;32m   1019\u001b[0m                 \u001b[0;31m# Update and possibly print the progressbar.\u001b[0m\u001b[0;34m\u001b[0m\u001b[0;34m\u001b[0m\u001b[0;34m\u001b[0m\u001b[0m\n",
      "\u001b[0;32m~/miniconda3/envs/pytorch/lib/python3.7/site-packages/torch/utils/data/dataloader.py\u001b[0m in \u001b[0;36m__next__\u001b[0;34m(self)\u001b[0m\n\u001b[1;32m    344\u001b[0m     \u001b[0;32mdef\u001b[0m \u001b[0m__next__\u001b[0m\u001b[0;34m(\u001b[0m\u001b[0mself\u001b[0m\u001b[0;34m)\u001b[0m\u001b[0;34m:\u001b[0m\u001b[0;34m\u001b[0m\u001b[0;34m\u001b[0m\u001b[0m\n\u001b[1;32m    345\u001b[0m         \u001b[0mindex\u001b[0m \u001b[0;34m=\u001b[0m \u001b[0mself\u001b[0m\u001b[0;34m.\u001b[0m\u001b[0m_next_index\u001b[0m\u001b[0;34m(\u001b[0m\u001b[0;34m)\u001b[0m  \u001b[0;31m# may raise StopIteration\u001b[0m\u001b[0;34m\u001b[0m\u001b[0;34m\u001b[0m\u001b[0m\n\u001b[0;32m--> 346\u001b[0;31m         \u001b[0mdata\u001b[0m \u001b[0;34m=\u001b[0m \u001b[0mself\u001b[0m\u001b[0;34m.\u001b[0m\u001b[0mdataset_fetcher\u001b[0m\u001b[0;34m.\u001b[0m\u001b[0mfetch\u001b[0m\u001b[0;34m(\u001b[0m\u001b[0mindex\u001b[0m\u001b[0;34m)\u001b[0m  \u001b[0;31m# may raise StopIteration\u001b[0m\u001b[0;34m\u001b[0m\u001b[0;34m\u001b[0m\u001b[0m\n\u001b[0m\u001b[1;32m    347\u001b[0m         \u001b[0;32mif\u001b[0m \u001b[0mself\u001b[0m\u001b[0;34m.\u001b[0m\u001b[0mpin_memory\u001b[0m\u001b[0;34m:\u001b[0m\u001b[0;34m\u001b[0m\u001b[0;34m\u001b[0m\u001b[0m\n\u001b[1;32m    348\u001b[0m             \u001b[0mdata\u001b[0m \u001b[0;34m=\u001b[0m \u001b[0m_utils\u001b[0m\u001b[0;34m.\u001b[0m\u001b[0mpin_memory\u001b[0m\u001b[0;34m.\u001b[0m\u001b[0mpin_memory\u001b[0m\u001b[0;34m(\u001b[0m\u001b[0mdata\u001b[0m\u001b[0;34m)\u001b[0m\u001b[0;34m\u001b[0m\u001b[0;34m\u001b[0m\u001b[0m\n",
      "\u001b[0;32m~/miniconda3/envs/pytorch/lib/python3.7/site-packages/torch/utils/data/_utils/fetch.py\u001b[0m in \u001b[0;36mfetch\u001b[0;34m(self, possibly_batched_index)\u001b[0m\n\u001b[1;32m     42\u001b[0m     \u001b[0;32mdef\u001b[0m \u001b[0mfetch\u001b[0m\u001b[0;34m(\u001b[0m\u001b[0mself\u001b[0m\u001b[0;34m,\u001b[0m \u001b[0mpossibly_batched_index\u001b[0m\u001b[0;34m)\u001b[0m\u001b[0;34m:\u001b[0m\u001b[0;34m\u001b[0m\u001b[0;34m\u001b[0m\u001b[0m\n\u001b[1;32m     43\u001b[0m         \u001b[0;32mif\u001b[0m \u001b[0mself\u001b[0m\u001b[0;34m.\u001b[0m\u001b[0mauto_collation\u001b[0m\u001b[0;34m:\u001b[0m\u001b[0;34m\u001b[0m\u001b[0;34m\u001b[0m\u001b[0m\n\u001b[0;32m---> 44\u001b[0;31m             \u001b[0mdata\u001b[0m \u001b[0;34m=\u001b[0m \u001b[0;34m[\u001b[0m\u001b[0mself\u001b[0m\u001b[0;34m.\u001b[0m\u001b[0mdataset\u001b[0m\u001b[0;34m[\u001b[0m\u001b[0midx\u001b[0m\u001b[0;34m]\u001b[0m \u001b[0;32mfor\u001b[0m \u001b[0midx\u001b[0m \u001b[0;32min\u001b[0m \u001b[0mpossibly_batched_index\u001b[0m\u001b[0;34m]\u001b[0m\u001b[0;34m\u001b[0m\u001b[0;34m\u001b[0m\u001b[0m\n\u001b[0m\u001b[1;32m     45\u001b[0m         \u001b[0;32melse\u001b[0m\u001b[0;34m:\u001b[0m\u001b[0;34m\u001b[0m\u001b[0;34m\u001b[0m\u001b[0m\n\u001b[1;32m     46\u001b[0m             \u001b[0mdata\u001b[0m \u001b[0;34m=\u001b[0m \u001b[0mself\u001b[0m\u001b[0;34m.\u001b[0m\u001b[0mdataset\u001b[0m\u001b[0;34m[\u001b[0m\u001b[0mpossibly_batched_index\u001b[0m\u001b[0;34m]\u001b[0m\u001b[0;34m\u001b[0m\u001b[0;34m\u001b[0m\u001b[0m\n",
      "\u001b[0;32m~/miniconda3/envs/pytorch/lib/python3.7/site-packages/torch/utils/data/_utils/fetch.py\u001b[0m in \u001b[0;36m<listcomp>\u001b[0;34m(.0)\u001b[0m\n\u001b[1;32m     42\u001b[0m     \u001b[0;32mdef\u001b[0m \u001b[0mfetch\u001b[0m\u001b[0;34m(\u001b[0m\u001b[0mself\u001b[0m\u001b[0;34m,\u001b[0m \u001b[0mpossibly_batched_index\u001b[0m\u001b[0;34m)\u001b[0m\u001b[0;34m:\u001b[0m\u001b[0;34m\u001b[0m\u001b[0;34m\u001b[0m\u001b[0m\n\u001b[1;32m     43\u001b[0m         \u001b[0;32mif\u001b[0m \u001b[0mself\u001b[0m\u001b[0;34m.\u001b[0m\u001b[0mauto_collation\u001b[0m\u001b[0;34m:\u001b[0m\u001b[0;34m\u001b[0m\u001b[0;34m\u001b[0m\u001b[0m\n\u001b[0;32m---> 44\u001b[0;31m             \u001b[0mdata\u001b[0m \u001b[0;34m=\u001b[0m \u001b[0;34m[\u001b[0m\u001b[0mself\u001b[0m\u001b[0;34m.\u001b[0m\u001b[0mdataset\u001b[0m\u001b[0;34m[\u001b[0m\u001b[0midx\u001b[0m\u001b[0;34m]\u001b[0m \u001b[0;32mfor\u001b[0m \u001b[0midx\u001b[0m \u001b[0;32min\u001b[0m \u001b[0mpossibly_batched_index\u001b[0m\u001b[0;34m]\u001b[0m\u001b[0;34m\u001b[0m\u001b[0;34m\u001b[0m\u001b[0m\n\u001b[0m\u001b[1;32m     45\u001b[0m         \u001b[0;32melse\u001b[0m\u001b[0;34m:\u001b[0m\u001b[0;34m\u001b[0m\u001b[0;34m\u001b[0m\u001b[0m\n\u001b[1;32m     46\u001b[0m             \u001b[0mdata\u001b[0m \u001b[0;34m=\u001b[0m \u001b[0mself\u001b[0m\u001b[0;34m.\u001b[0m\u001b[0mdataset\u001b[0m\u001b[0;34m[\u001b[0m\u001b[0mpossibly_batched_index\u001b[0m\u001b[0;34m]\u001b[0m\u001b[0;34m\u001b[0m\u001b[0;34m\u001b[0m\u001b[0m\n",
      "\u001b[0;32m<ipython-input-1-a8b166f9a77f>\u001b[0m in \u001b[0;36m__getitem__\u001b[0;34m(self, index)\u001b[0m\n\u001b[1;32m     73\u001b[0m \u001b[0;34m\u001b[0m\u001b[0m\n\u001b[1;32m     74\u001b[0m     \u001b[0;32mdef\u001b[0m \u001b[0m__getitem__\u001b[0m\u001b[0;34m(\u001b[0m\u001b[0mself\u001b[0m\u001b[0;34m,\u001b[0m \u001b[0mindex\u001b[0m\u001b[0;34m)\u001b[0m\u001b[0;34m:\u001b[0m\u001b[0;34m\u001b[0m\u001b[0;34m\u001b[0m\u001b[0m\n\u001b[0;32m---> 75\u001b[0;31m         \u001b[0mmix_track\u001b[0m \u001b[0;34m=\u001b[0m \u001b[0mnp\u001b[0m\u001b[0;34m.\u001b[0m\u001b[0mload\u001b[0m\u001b[0;34m(\u001b[0m\u001b[0;34m'{0}/{1}.npy'\u001b[0m\u001b[0;34m.\u001b[0m\u001b[0mformat\u001b[0m\u001b[0;34m(\u001b[0m\u001b[0mself\u001b[0m\u001b[0;34m.\u001b[0m\u001b[0mmix_path\u001b[0m\u001b[0;34m,\u001b[0m \u001b[0mindex\u001b[0m\u001b[0;34m)\u001b[0m\u001b[0;34m)\u001b[0m\u001b[0;34m\u001b[0m\u001b[0;34m\u001b[0m\u001b[0m\n\u001b[0m\u001b[1;32m     76\u001b[0m         \u001b[0mtarget_track\u001b[0m \u001b[0;34m=\u001b[0m \u001b[0mnp\u001b[0m\u001b[0;34m.\u001b[0m\u001b[0mload\u001b[0m\u001b[0;34m(\u001b[0m\u001b[0;34m'{0}/{1}.npy'\u001b[0m\u001b[0;34m.\u001b[0m\u001b[0mformat\u001b[0m\u001b[0;34m(\u001b[0m\u001b[0mself\u001b[0m\u001b[0;34m.\u001b[0m\u001b[0mtarget_path\u001b[0m\u001b[0;34m,\u001b[0m \u001b[0mindex\u001b[0m\u001b[0;34m)\u001b[0m\u001b[0;34m)\u001b[0m\u001b[0;34m\u001b[0m\u001b[0;34m\u001b[0m\u001b[0m\n\u001b[1;32m     77\u001b[0m \u001b[0;34m\u001b[0m\u001b[0m\n",
      "\u001b[0;32m~/miniconda3/envs/pytorch/lib/python3.7/site-packages/numpy/lib/npyio.py\u001b[0m in \u001b[0;36mload\u001b[0;34m(file, mmap_mode, allow_pickle, fix_imports, encoding)\u001b[0m\n\u001b[1;32m    431\u001b[0m             \u001b[0;32melse\u001b[0m\u001b[0;34m:\u001b[0m\u001b[0;34m\u001b[0m\u001b[0;34m\u001b[0m\u001b[0m\n\u001b[1;32m    432\u001b[0m                 return format.read_array(fid, allow_pickle=allow_pickle,\n\u001b[0;32m--> 433\u001b[0;31m                                          pickle_kwargs=pickle_kwargs)\n\u001b[0m\u001b[1;32m    434\u001b[0m         \u001b[0;32melse\u001b[0m\u001b[0;34m:\u001b[0m\u001b[0;34m\u001b[0m\u001b[0;34m\u001b[0m\u001b[0m\n\u001b[1;32m    435\u001b[0m             \u001b[0;31m# Try a pickle\u001b[0m\u001b[0;34m\u001b[0m\u001b[0;34m\u001b[0m\u001b[0;34m\u001b[0m\u001b[0m\n",
      "\u001b[0;32m~/miniconda3/envs/pytorch/lib/python3.7/site-packages/numpy/lib/format.py\u001b[0m in \u001b[0;36mread_array\u001b[0;34m(fp, allow_pickle, pickle_kwargs)\u001b[0m\n\u001b[1;32m    666\u001b[0m         \u001b[0;32mif\u001b[0m \u001b[0misfileobj\u001b[0m\u001b[0;34m(\u001b[0m\u001b[0mfp\u001b[0m\u001b[0;34m)\u001b[0m\u001b[0;34m:\u001b[0m\u001b[0;34m\u001b[0m\u001b[0;34m\u001b[0m\u001b[0m\n\u001b[1;32m    667\u001b[0m             \u001b[0;31m# We can use the fast fromfile() function.\u001b[0m\u001b[0;34m\u001b[0m\u001b[0;34m\u001b[0m\u001b[0;34m\u001b[0m\u001b[0m\n\u001b[0;32m--> 668\u001b[0;31m             \u001b[0marray\u001b[0m \u001b[0;34m=\u001b[0m \u001b[0mnumpy\u001b[0m\u001b[0;34m.\u001b[0m\u001b[0mfromfile\u001b[0m\u001b[0;34m(\u001b[0m\u001b[0mfp\u001b[0m\u001b[0;34m,\u001b[0m \u001b[0mdtype\u001b[0m\u001b[0;34m=\u001b[0m\u001b[0mdtype\u001b[0m\u001b[0;34m,\u001b[0m \u001b[0mcount\u001b[0m\u001b[0;34m=\u001b[0m\u001b[0mcount\u001b[0m\u001b[0;34m)\u001b[0m\u001b[0;34m\u001b[0m\u001b[0;34m\u001b[0m\u001b[0m\n\u001b[0m\u001b[1;32m    669\u001b[0m         \u001b[0;32melse\u001b[0m\u001b[0;34m:\u001b[0m\u001b[0;34m\u001b[0m\u001b[0;34m\u001b[0m\u001b[0m\n\u001b[1;32m    670\u001b[0m             \u001b[0;31m# This is not a real file. We have to read it the\u001b[0m\u001b[0;34m\u001b[0m\u001b[0;34m\u001b[0m\u001b[0;34m\u001b[0m\u001b[0m\n",
      "\u001b[0;31mKeyboardInterrupt\u001b[0m: "
     ]
    }
   ],
   "source": [
    "init_weights(model, 0)\n",
    "\n",
    "num_epochs = 10000\n",
    "\n",
    "start_e = len(loss_trace)\n",
    "for e in range(start_e, num_epochs):\n",
    "    model.train()\n",
    "    loss_sum = 0\n",
    "    for mix, tar in tqdm_notebook(train_iter):\n",
    "        mix = mix.to(device)\n",
    "        tar = tar.to(device)\n",
    "        y_hat = model(mix)\n",
    "        loss = criterion(y_hat, tar)\n",
    "        loss.backward()\n",
    "        optim.step()\n",
    "        optim.zero_grad()\n",
    "        loss_sum += loss.item() * mix.shape[0]\n",
    "        \n",
    "    scheduler.step()\n",
    "    \n",
    "    ipd.clear_output(wait=True)\n",
    "    print('epoch' , e)\n",
    "\n",
    "    epoch_avg_loss = loss_sum / len(train_set)\n",
    "    loss_trace.append(epoch_avg_loss)\n",
    "    print(epoch_avg_loss)\n",
    "    plt.plot(loss_trace)\n",
    "    plt.ylim(0, 2.0)\n",
    "    plt.show()\n",
    "    \n",
    "    torch.save(model.state_dict(), '{0}/{1}/{2}.pt'.format(model_path, model_name, target_name))\n",
    "    if e>=4000 and e%500==0:\n",
    "        torch.save(model.state_dict(), '{0}/{1}/{2}{3:05}.pt'.format(model_path, model_name, target_name, e))\n",
    "    "
   ]
  },
  {
   "cell_type": "markdown",
   "metadata": {},
   "source": [
    "### Generate vocals for all test tracks"
   ]
  },
  {
   "cell_type": "code",
   "execution_count": 5,
   "metadata": {},
   "outputs": [],
   "source": [
    "# stereo version, shape=(num_intervals, 2, f, t)\n",
    "def preprocess_track(track_path, s, d):\n",
    "    y, sr = librosa.load(track_path, mono=False, sr=None, offset=s, duration=d)\n",
    "    n_sample = y.shape[1]\n",
    "    \n",
    "    gen_size = sampling_size-2*trim\n",
    "    pad = gen_size - n_sample%gen_size\n",
    "    y_p = np.concatenate((np.zeros((2,trim)), y, np.zeros((2,pad)), np.zeros((2,trim))), 1)\n",
    "    \n",
    "    all_specs = []\n",
    "    i = 0\n",
    "    while i < n_sample + pad:\n",
    "        specs = to_specs(y_p[:, i:i+sampling_size])\n",
    "        all_specs.append(specs)\n",
    "        i += gen_size\n",
    "\n",
    "    return torch.tensor(all_specs), sr, pad\n",
    "\n",
    "\n",
    "def separate(model, mix_path, s=0.0, d=None):\n",
    "    mix_specs, mix_sr, pad_len = preprocess_track(mix_path, s, d)\n",
    "   \n",
    "    # create batches\n",
    "    batch_size = 4\n",
    "    i = 0\n",
    "    num_intervals = mix_specs.shape[0]\n",
    "    batches = []\n",
    "    while i < num_intervals:\n",
    "        batches.append(mix_specs[i:i+batch_size])\n",
    "        i = i + batch_size\n",
    "\n",
    "    # obtain estimated target spectrograms\n",
    "    tar_specs = None\n",
    "    for batch in tqdm_notebook(batches):\n",
    "        t_specs = model(batch.to(device))\n",
    "\n",
    "        if tar_specs is None:\n",
    "            tar_specs = t_specs.detach().cpu()\n",
    "        else:\n",
    "            tar_specs = torch.cat((tar_specs, t_specs.detach().cpu()), 0)\n",
    "\n",
    "    # reconstruct vocal signal\n",
    "    tar_specs = tar_specs.numpy()\n",
    "    tar_signal = np.array([[],[]])\n",
    "    for i in range(len(tar_specs)):\n",
    "        tar_signal = np.concatenate((tar_signal, np.array(restore(tar_specs[i]))[:, trim:-trim]), 1)\n",
    "\n",
    "    tar_signal = tar_signal[:, :-pad_len]\n",
    "    \n",
    "    return tar_signal"
   ]
  },
  {
   "cell_type": "code",
   "execution_count": null,
   "metadata": {},
   "outputs": [],
   "source": [
    "for i in range(50):\n",
    "    track_name = 'test_{0:02}'.format(i)\n",
    "    m_path = '{0}/test_mix/{1}.wav'.format(dsd_eval_path, track_name)\n",
    "    t_path = '{0}/{1}/estimates_voc-acc/{2}/{3}.wav'.format(model_path, model_name, track_name, target_name)\n",
    "\n",
    "    tar_signal = separate(model, m_path)\n",
    "    \n",
    "    librosa.output.write_wav(t_path, np.array(tar_signal, np.float32), sampling_rate)"
   ]
  },
  {
   "cell_type": "markdown",
   "metadata": {},
   "source": [
    "## Evaluation"
   ]
  },
  {
   "cell_type": "code",
   "execution_count": 8,
   "metadata": {},
   "outputs": [],
   "source": [
    "def mean_nan(a):\n",
    "    return a[~np.isnan(a)].mean()\n",
    "\n",
    "\n",
    "def dsd_sdr(ref, est, framewise=True):\n",
    "    if framewise:\n",
    "        sdr, isr, sir, sar, perm = eval3.bss_eval_images_framewise(ref, est)\n",
    "    else:\n",
    "        sdr, isr, sir, sar, perm = eval3.bss_eval_images(ref, est)\n",
    "    return mean_nan(sdr[0])\n",
    "\n",
    "def musdb_sdr(ref, est, sr):\n",
    "    sdr, isr, sir, sar, perm = eval4.metrics.bss_eval(ref, est, window=sr, hop=sr)\n",
    "    return mean_nan(sdr[0])"
   ]
  },
  {
   "cell_type": "markdown",
   "metadata": {},
   "source": [
    "### Voc"
   ]
  },
  {
   "cell_type": "code",
   "execution_count": 9,
   "metadata": {},
   "outputs": [
    {
     "data": {
      "image/png": "[encoded data removed]",
      "text/plain": [
       "<Figure size 432x288 with 1 Axes>"
      ]
     },
     "metadata": {
      "needs_background": "light"
     },
     "output_type": "display_data"
    },
    {
     "name": "stdout",
     "output_type": "stream",
     "text": [
      "Global values..\n",
      "\n",
      "SDR mean: 4.0757461657455645\n",
      "SDR median: 4.518865275698904\n"
     ]
    }
   ],
   "source": [
    "import math\n",
    "import statistics as stats\n",
    "\n",
    "SDR = []\n",
    "for i in range(50):\n",
    "    track_name = 'test_{0:02}'.format(i)\n",
    "    \n",
    "    ref, sr = librosa.load('{0}/test_sources/{1}/{2}.wav'.format(dsd_eval_path, track_name, target_name), mono=False, sr=None)\n",
    "\n",
    "    est_path = '{0}/{1}/mwf_voc-acc/{2}/'.format(model_path, model_name, track_name)\n",
    "    est, sr = librosa.load(est_path+'voc.wav', mono=False, sr=None)\n",
    "    \n",
    "#     mix_path = '{0}/test_mix/{1}.wav'.format(dsd_eval_path, track_name)\n",
    "#     mix, sr = librosa.load(mix_path, sr=None)\n",
    "#     est = separate(model, mix_path)\n",
    "    \n",
    "    sdr = dsd_sdr(np.array([ref.T]), np.array([est.T]))\n",
    "    \n",
    "    print(sdr)\n",
    "    SDR.append(sdr)\n",
    "    \n",
    "    ipd.clear_output(wait=True)\n",
    "    plt.plot(SDR)\n",
    "    plt.show()\n",
    "\n",
    "    print('Global values..\\n')\n",
    "    print('SDR mean:', stats.mean(SDR))\n",
    "    print('SDR median:', stats.median(SDR))\n"
   ]
  },
  {
   "cell_type": "markdown",
   "metadata": {},
   "source": [
    "## Evaluate sub-track"
   ]
  },
  {
   "cell_type": "code",
   "execution_count": 6,
   "metadata": {},
   "outputs": [
    {
     "data": {
      "application/vnd.jupyter.widget-view+json": {
       "model_id": "d41d2a339c6e4476b50d4f2e464de6ee",
       "version_major": 2,
       "version_minor": 0
      },
      "text/plain": [
       "HBox(children=(IntProgress(value=0, max=9), HTML(value='')))"
      ]
     },
     "metadata": {},
     "output_type": "display_data"
    },
    {
     "name": "stdout",
     "output_type": "stream",
     "text": [
      "\n"
     ]
    }
   ],
   "source": [
    "track_name = 'test_{0:02}'.format(0)\n",
    "s = 0\n",
    "d = None\n",
    "\n",
    "ref, sr = librosa.load('{0}/test_sources/{1}/{2}.wav'.format(dsd_eval_path, track_name, target_name), mono=False, sr=None, offset=s, duration=d)\n",
    "\n",
    "est_path = '{0}/{1}/estimates_sources/{2}/{3}.wav'.format(model_path, model_name, track_name, target_name)\n",
    "#est, sr = librosa.load(est_path, mono=False, sr=None, offset=s, duration=d)\n",
    "\n",
    "init_weights(model, 1)\n",
    "est = separate(model, '{0}/test_mix/{1}.wav'.format(dsd_eval_path, track_name), s=s, d=d)\n",
    "\n",
    "# ipd.Audio(ref, rate=sr)\n"
   ]
  },
  {
   "cell_type": "code",
   "execution_count": 10,
   "metadata": {},
   "outputs": [
    {
     "name": "stdout",
     "output_type": "stream",
     "text": [
      "6.695154508636091\n"
     ]
    }
   ],
   "source": [
    "ref_ = np.array([ref.T])\n",
    "est_ = np.array([est.T])\n",
    "\n",
    "sdr = dsd_sdr(ref_, est_, framewise=True)\n",
    "\n",
    "print(sdr)"
   ]
  },
  {
   "cell_type": "markdown",
   "metadata": {},
   "source": [
    "### Create estimates folders"
   ]
  },
  {
   "cell_type": "code",
   "execution_count": null,
   "metadata": {},
   "outputs": [],
   "source": [
    "os.mkdir('{0}/{1}/estimates_sources'.format(model_path, model_name))\n",
    "for i in tqdm_notebook(range(50)):\n",
    "    track_name = 'test_{0:02}'.format(i)\n",
    "    p = '{0}/{1}/estimates_sources/test_{2:02}'.format(model_path, model_name, i)\n",
    "    os.mkdir(p)"
   ]
  },
  {
   "cell_type": "code",
   "execution_count": null,
   "metadata": {},
   "outputs": [],
   "source": []
  }
 ],
 "metadata": {
  "kernelspec": {
   "display_name": "Python 3",
   "language": "python",
   "name": "python3"
  },
  "language_info": {
   "codemirror_mode": {
    "name": "ipython",
    "version": 3
   },
   "file_extension": ".py",
   "mimetype": "text/x-python",
   "name": "python",
   "nbconvert_exporter": "python",
   "pygments_lexer": "ipython3",
   "version": "3.7.2"
  }
 },
 "nbformat": 4,
 "nbformat_minor": 2
}
