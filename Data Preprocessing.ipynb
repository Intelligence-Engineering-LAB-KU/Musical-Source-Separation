{
 "cells": [
  {
   "cell_type": "markdown",
   "metadata": {},
   "source": [
    "```\n",
    "A python package to parse and process the MUSDB18 dataset, the largest open access dataset for music source separation. The tool was originally developed for the Music Separation task as part of the Signal Separation Evaluation Campaign (SISEC).\n",
    "```\n",
    "### 1. Download & Parse musdb dataset "
   ]
  },
  {
   "cell_type": "code",
   "execution_count": 1,
   "metadata": {},
   "outputs": [],
   "source": [
    "#!sudo apt-get install ffmpeg\n",
    "#!pip install musdb\n",
    "\n",
    "import musdb\n",
    "musdb_data_path = 'data/musdb18'\n",
    "mus_total = musdb.DB(root=musdb_data_path)"
   ]
  },
  {
   "cell_type": "markdown",
   "metadata": {},
   "source": [
    "## 2. Load Dataset"
   ]
  },
  {
   "cell_type": "code",
   "execution_count": null,
   "metadata": {},
   "outputs": [],
   "source": [
    "mus_train = musdb.DB(root=musdb_data_path, subsets=\"train\", split='train')\n",
    "mus_valid = musdb.DB(root=musdb_data_path, subsets=\"train\", split='valid')\n",
    "mus_test = musdb.DB(root=musdb_data_path, subsets=\"test\")"
   ]
  },
  {
   "cell_type": "markdown",
   "metadata": {},
   "source": [
    "## 3.  Preprocess training data"
   ]
  },
  {
   "cell_type": "code",
   "execution_count": null,
   "metadata": {},
   "outputs": [],
   "source": [
    "def save_as_numpy (_audio, _norm, _dest_dir, _target_name, _audio_idx, _track_name, _n_fft, _win_size, _hop_size, _normalize) : \n",
    "\n",
    "    audio_mono = _audio.mean(axis=1)\n",
    "    # ipd._audio(track._audio.T[:,:track.rate*5], rate=track.rate)\n",
    "    # ipd._audio(_audio.T[:5*track.rate], rate=track.rate)\n",
    "\n",
    "    stft = librosa.stft(audio_mono, n_fft=_n_fft, win_length=_win_size, hop_length=_hop_size)\n",
    "    spectrum, phase = librosa.magphase(stft)\n",
    "    spectrogram = np.abs(spectrum).astype(np.float32)\n",
    "    \n",
    "    if(_norm is None):\n",
    "        _norm = spectrogram.max()\n",
    "    \n",
    "    if(_normalize):\n",
    "        spectrogram /= _norm\n",
    "        \n",
    "    np.save(os.path.join(_dest_dir, _target_name, num2str(_audio_idx) + '_' + _track_name + '_spec'), spectrogram)\n",
    "    np.save(os.path.join(_dest_dir, _target_name, num2str(_audio_idx) + '_' + _track_name + '_phase'), phase)\n",
    "    \n",
    "    return _norm"
   ]
  },
  {
   "cell_type": "code",
   "execution_count": null,
   "metadata": {},
   "outputs": [],
   "source": [
    "# parameters: _win_size, _hop_size\n",
    "from tqdm import tqdm_notebook\n",
    "import librosa\n",
    "import numpy as np\n",
    "import os\n",
    "from util import num2str\n",
    "\n",
    "def preprocess_dataset(_dataset, _dest_dir, _n_fft, _win_size, _hop_size, normalize):\n",
    "\n",
    "    # create the folder\n",
    "    if not os.path.exists(_dest_dir):\n",
    "        os.mkdir(_dest_dir)\n",
    "        os.mkdir(os.path.join(_dest_dir, 'mixture'))\n",
    "        os.mkdir(os.path.join(_dest_dir, 'vocals'))\n",
    "        os.mkdir(os.path.join(_dest_dir, 'drums'))\n",
    "        os.mkdir(os.path.join(_dest_dir, 'bass'))\n",
    "        os.mkdir(os.path.join(_dest_dir, 'other'))\n",
    "        os.mkdir(os.path.join(_dest_dir, 'metadata'))\n",
    "\n",
    "    targets = ['vocals', 'drums', 'bass', 'other']\n",
    "\n",
    "    print('Preprocess data: ' , str(_dataset))\n",
    "    \n",
    "    for audio_idx, track in enumerate(tqdm_notebook(_dataset)):\n",
    "\n",
    "        target = 'mixture'\n",
    "        norm = None\n",
    "\n",
    "        # After For Iteration\n",
    "        norm = save_as_numpy(track.audio, None, _dest_dir, target, audio_idx, track.name, _n_fft, _win_size, _hop_size, normalize)\n",
    "\n",
    "        # save metadata\n",
    "        np.save(os.path.join(_dest_dir, \"metadata\", num2str(audio_idx) + '_' + track.name + '_spec'), np.array([norm, track.rate]))\n",
    "\n",
    "        for target in targets:\n",
    "            save_as_numpy(track.targets[target].audio, norm, _dest_dir, target, audio_idx, track.name, _n_fft, _win_size, _hop_size, normalize)\n",
    "\n",
    "n_fft = 1024            \n",
    "win_size = 512\n",
    "hop_size = 256\n",
    "normalize = False\n",
    "\n",
    "preprocess_dataset(mus_train, 'data/musdb18/preprocessed/plain/train', n_fft, win_size, hop_size, normalize)\n",
    "preprocess_dataset(mus_valid, 'data/musdb18/preprocessed/plain/valid', n_fft, win_size, hop_size, normalize)\n",
    "preprocess_dataset(mus_test, 'data/musdb18/preprocessed/plain/test', n_fft, win_size, hop_size, normalize)"
   ]
  }
 ],
 "metadata": {
  "kernelspec": {
   "display_name": "Python 3",
   "language": "python",
   "name": "python3"
  },
  "language_info": {
   "codemirror_mode": {
    "name": "ipython",
    "version": 3
   },
   "file_extension": ".py",
   "mimetype": "text/x-python",
   "name": "python",
   "nbconvert_exporter": "python",
   "pygments_lexer": "ipython3",
   "version": "3.7.2"
  }
 },
 "nbformat": 4,
 "nbformat_minor": 2
}
